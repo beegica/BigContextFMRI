{
 "cells": [
  {
   "cell_type": "code",
   "execution_count": 6,
   "metadata": {
    "collapsed": false
   },
   "outputs": [],
   "source": [
    "import random\n",
    "from io import BytesIO\n",
    "\n",
    "import math\n",
    "from PIL import Image\n",
    "from PIL import ImageFile\n",
    "\n",
    "\n",
    "filename = \"face-smile.png\"\n",
    "\n",
    "# Adjust and be careful here.\n",
    "\n",
    "img = Image.open(filename)\n",
    "width, height = img.size\n",
    "BLOCKLEN = int(math.sqrt(width*height/400.))\n",
    "xblock = width // BLOCKLEN\n",
    "yblock = height // BLOCKLEN\n",
    "# creates sequence of 4-tuples (box) defining the left, upper, right, and lower pixel coordinate\n",
    "blockmap = [(xb * BLOCKLEN, yb * BLOCKLEN, (xb + 1) * BLOCKLEN, (yb + 1) * BLOCKLEN)\n",
    "            for xb in range(xblock) for yb in range(yblock)]\n",
    "\n",
    "shuffle = list(blockmap)\n",
    "\n",
    "# shuffle the sequence\n",
    "random.shuffle(shuffle)\n",
    "\n",
    "# Creates a new image with the given mode and size.\n",
    "result = Image.new(img.mode, (width, height))\n",
    "for box, sbox in zip(blockmap, shuffle):\n",
    "    # Returns a rectangular region from this original image.\n",
    "    crop = img.crop(sbox)\n",
    "    # Pastes the cropped pixel into the new image Object\n",
    "    result.paste(crop, box)\n",
    "result.save('scramble.png')"
   ]
  },
  {
   "cell_type": "code",
   "execution_count": null,
   "metadata": {
    "collapsed": true
   },
   "outputs": [],
   "source": []
  }
 ],
 "metadata": {
  "kernelspec": {
   "display_name": "Python 2",
   "language": "python",
   "name": "python2"
  },
  "language_info": {
   "codemirror_mode": {
    "name": "ipython",
    "version": 2
   },
   "file_extension": ".py",
   "mimetype": "text/x-python",
   "name": "python",
   "nbconvert_exporter": "python",
   "pygments_lexer": "ipython2",
   "version": "2.7.13"
  }
 },
 "nbformat": 4,
 "nbformat_minor": 2
}
